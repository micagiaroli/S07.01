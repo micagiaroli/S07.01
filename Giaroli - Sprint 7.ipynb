{
 "cells": [
  {
   "cell_type": "markdown",
   "metadata": {},
   "source": [
    "## Sprint 7: Nivel 1\n",
    "### Ejercicio 1: Calculadora de l'índex de massa corporal"
   ]
  },
  {
   "cell_type": "markdown",
   "metadata": {},
   "source": [
    "Escriu una funció que calculi l'IMC ingressat per l'usuari/ària, és a dir, qui ho executi haurà d'ingressar aquestes dades. Pots obtenir més informació del seu càlcul en:\n",
    "La funció ha de classificar el resultat en les seves respectives categories"
   ]
  },
  {
   "cell_type": "code",
   "execution_count": null,
   "metadata": {},
   "outputs": [
    {
     "name": "stdout",
     "output_type": "stream",
     "text": [
      "Tu IMC es igual a 34.6, tienes obesidad.\n"
     ]
    }
   ],
   "source": [
    "def calculadora_imc():\n",
    "    try:\n",
    "        peso = float(input(\"¿Cuánto pesas (kgs.)?\"))\n",
    "        altura = float(input(\"¿Cuánto mides (mts.)?\")) \n",
    "\n",
    "        if peso <= 0 or altura <= 0:\n",
    "            print(\"El peso y la altura deben ser mayores que 0.\")\n",
    "            return\n",
    "        \n",
    "        imc = round((peso/(altura*altura)),2)\n",
    "        if imc < 18.5: \n",
    "            mensaje = \"tienes bajo peso.\"\n",
    "        elif 18.5 <= imc < 25:\n",
    "            mensaje = \"tienes peso normal.\"\n",
    "        elif 25 <= imc < 30:\n",
    "            mensaje = \"tienes sobrepeso.\"\n",
    "        else: \n",
    "            mensaje = \"tienes obesidad.\"\n",
    "        print(f\"Tu IMC es igual a {imc}, {mensaje}\")\n",
    "    \n",
    "    except ValueError:\n",
    "        print(\"Por favor introduce valores numéricos válidos.\")\n",
    "\n",
    "calculadora_imc()"
   ]
  },
  {
   "cell_type": "markdown",
   "metadata": {},
   "source": [
    "### Ejercicio 2: Convertidor de temperatures: Celsius a Farenheit y a Rankine."
   ]
  },
  {
   "cell_type": "markdown",
   "metadata": {},
   "source": [
    "Existeixen diverses unitats de temperatura utilitzades en diferents contextos i regions. Les més comunes són Celsius (°C), Fahrenheit (°F) i Kelvin (K). També existeixen altres unitats com Rankine (°Ra) i Réaumur (°Re). Selecciona almenys 2 i construeix el convertidor."
   ]
  },
  {
   "cell_type": "code",
   "execution_count": null,
   "metadata": {},
   "outputs": [
    {
     "name": "stdout",
     "output_type": "stream",
     "text": [
      "40.0ºC es igual a 104.0ºF y a 563.67ºR.\n"
     ]
    }
   ],
   "source": [
    "# Para este convertidor crearemos distintas funciones para hacer que el código sea más modular\n",
    "\n",
    "# 1) Creamos convertidor de Celsius a Farenheit\n",
    "def convertidor_celsius_farenheit(celsius):\n",
    "    return round(celsius * 9 / 5 + 32, 2)\n",
    "\n",
    "# 2) Convertidor de Celsius a Rankine\n",
    "def convertidor_celsius_rankine(celsius):\n",
    "    return round(celsius * 9 / 5 + 491.67, 2)\n",
    "\n",
    "# 3) Solicitamos al usuario la temperatura celsius y la validamos\n",
    "def obtener_temperatura_celsius():\n",
    "    while True:\n",
    "        try: \n",
    "            temperatura_celsius = float(input(\"Temperatura actual en Cº\"))\n",
    "            return temperatura_celsius\n",
    "        except ValueError:\n",
    "            print(\"Por favor introduce valores numéricos válidos.\")\n",
    "\n",
    "# 4) Creamos el convertidor de temperaturas\n",
    "def convertidor_temperaturas():\n",
    "    temperatura_celsius = obtener_temperatura_celsius()\n",
    "    temperatura_farenheit = convertidor_celsius_farenheit(temperatura_celsius)\n",
    "    temperatura_rankine = convertidor_celsius_rankine(temperatura_celsius)\n",
    "\n",
    "    print(f\"{temperatura_celsius}ºC es igual a {temperatura_farenheit}ºF y a {temperatura_rankine}ºR.\")\n",
    "\n",
    "# 5) Ejecutamos la función principal\n",
    "convertidor_temperaturas()\n"
   ]
  },
  {
   "cell_type": "markdown",
   "metadata": {},
   "source": [
    "### Ejercicio 3: Comptador de paraules d'un text."
   ]
  },
  {
   "cell_type": "markdown",
   "metadata": {},
   "source": [
    "Escriu una funció que donat un text, mostri les vegades que apareix cada paraula."
   ]
  },
  {
   "cell_type": "code",
   "execution_count": null,
   "metadata": {},
   "outputs": [
    {
     "name": "stdout",
     "output_type": "stream",
     "text": [
      "El texto ingresado al contador de palabras es: mi mama me mima, mama, mama, mama.\n",
      "Resultado: {'mi': 1, 'mama': 4, 'me': 1, 'mima': 1}\n"
     ]
    }
   ],
   "source": [
    "# definimos la funcion\n",
    "def contador_palabras():\n",
    "    texto = input(\"Por favor, ingresa el texto que quieres contabilizar:\")\n",
    "    print(f\"El texto ingresado al contador de palabras es: {texto}\")\n",
    "    palabras = texto.split() #usamos split() para dividir el texto en palabras \n",
    "    conteo_palabras = {} #creamos un diccionario para almacenar cada palabra y la cantidad de repeticiones\n",
    "\n",
    "    # con un bucle for iteramos por cada palabra y hacemos el conteo\n",
    "    for palabra in palabras:\n",
    "        palabra = palabra.strip(\".,;:!?\").lower() #eliminamos los signos de puntuación y dejamos la palabra en minúsculas\n",
    "        if palabra in conteo_palabras: \n",
    "            conteo_palabras[palabra] += 1 # si la palabra ya se encuentra en el diccionario, sumamos uno a su valor\n",
    "        else:                           \n",
    "            conteo_palabras[palabra] = 1 # si la palabra aún no se encuentra simplemente la añadimos y le damos valor 1\n",
    "\n",
    "    return conteo_palabras\n",
    "\n",
    "# Probamos el código:\n",
    "print(\"Resultado:\", contador_palabras())"
   ]
  },
  {
   "cell_type": "markdown",
   "metadata": {},
   "source": [
    "### Ejercicio 4: Diccionari invers."
   ]
  },
  {
   "cell_type": "markdown",
   "metadata": {},
   "source": [
    "Resulta que el client té una enquesta molt antiga que s'emmagatzema en un diccionari i els resultats els necessita al revés, és a dir, intercanviats les claus i els valors. Els valors i claus en el diccionari original són únics; si aquest no és el cas, la funció hauria d'imprimir un missatge d'advertiment."
   ]
  },
  {
   "cell_type": "code",
   "execution_count": null,
   "metadata": {},
   "outputs": [
    {
     "name": "stdout",
     "output_type": "stream",
     "text": [
      "Diccionario original: {'a': 1, 'b': 2, 'c': 3}\n",
      "{1: 'a', 2: 'b', 3: 'c'}\n",
      "Diccionario original: {'x': 'apple', 'y': 'banana', 'z': 'banana'}\n",
      "Advertencia! El valor 'banana' está repetido. Habría múltiples llaves para un valor.\n"
     ]
    }
   ],
   "source": [
    "# Creamos la función\n",
    "def inversor_diccionario(diccionario_original):\n",
    "    #imprimimos el diccionario original para comparar con el resultado\n",
    "    print(f\"Diccionario original: {diccionario_original}\")\n",
    "\n",
    "    # creamos el diccionario invertido\n",
    "    diccionario_invertido = {} \n",
    "        \n",
    "    #con un bucle for iteramos en cada par clave-valor y si algún valor en el diccionario original se repite, la función emite una advertencia \n",
    "    # y no realiza la inversión. Caso contrario, intercambia el valor original por la llave y viceversa y los añade al diccionario invertido.\n",
    "    for key, value in diccionario_original.items():\n",
    "        if value in diccionario_invertido:\n",
    "            print(f\"Advertencia! El valor '{value}' está repetido. Habría múltiples llaves para un valor.\")\n",
    "            return\n",
    "        else:\n",
    "            diccionario_invertido[value] = key\n",
    "    print(diccionario_invertido)\n",
    "\n",
    "# Probamos el código \n",
    "diccionario_original = {\"a\": 1, \"b\": 2, \"c\": 3}\n",
    "inversor_diccionario(diccionario_original)\n",
    "\n",
    "diccionario_original = {\"x\": \"apple\", \"y\": \"banana\", \"z\": \"banana\"}\n",
    "inversor_diccionario(diccionario_original)"
   ]
  },
  {
   "cell_type": "markdown",
   "metadata": {},
   "source": [
    "## Nivel 2\n",
    "### Ejercicio 1: Diccionari invers amb duplicats"
   ]
  },
  {
   "cell_type": "markdown",
   "metadata": {},
   "source": [
    "Continuant amb l'exercici 4 del nivell 1: al client es va oblidar de comentar un detall i resulta que els valors en el diccionari original poden duplicar-se i més, per la qual cosa les claus intercanviades poden tenir duplicats. En tals casos, els valors del diccionari resultant hauran d'emmagatzemar-se com una llista. Tingues en compte que un valor únic no ha de ser una llista."
   ]
  },
  {
   "cell_type": "code",
   "execution_count": null,
   "metadata": {},
   "outputs": [
    {
     "name": "stdout",
     "output_type": "stream",
     "text": [
      "Diccionario original: {'a': 1, 'b': 2, 'c': 3}\n",
      "{1: 'a', 2: 'b', 3: 'c'}\n",
      "Diccionario original: {'x': 'apple', 'y': 'banana', 'z': 'banana'}\n",
      "{'apple': 'x', 'banana': ['y', 'z']}\n"
     ]
    }
   ],
   "source": [
    "# reutilizamos la función del ejercicio anterior. Quitamos el mensaje de advertencia y añadimos una condición extra al bucle\n",
    "\n",
    "def inversor_diccionario(diccionario_original):\n",
    "    print(f\"Diccionario original: {diccionario_original}\")\n",
    "\n",
    "    diccionario_invertido = {} \n",
    "            \n",
    "    for key, value in diccionario_original.items():\n",
    "        # Si el valor ya existe en el diccionario invertido\n",
    "        if value in diccionario_invertido:\n",
    "            # Verificamos si el valor asociado ya es una lista y añadimos la nueva clave a la lista existente\n",
    "            if isinstance(diccionario_invertido[value], list):\n",
    "                diccionario_invertido[value].append(key)\n",
    "            else:\n",
    "                # Si no es una lista, creamos una lista con las claves actuales y la nueva clave\n",
    "                diccionario_invertido[value] = [diccionario_invertido[value], key]\n",
    "        else:\n",
    "            diccionario_invertido[value] = key\n",
    "    print(diccionario_invertido)\n",
    "\n",
    "# Probamos el código \n",
    "diccionario_original = {\"a\": 1, \"b\": 2, \"c\": 3}\n",
    "inversor_diccionario(diccionario_original)\n",
    "\n",
    "diccionario_original = {\"x\": \"apple\", \"y\": \"banana\", \"z\": \"banana\"}\n",
    "inversor_diccionario(diccionario_original)"
   ]
  },
  {
   "cell_type": "markdown",
   "metadata": {},
   "source": [
    "### Ejercicio 2: Conversió de tipus de dades"
   ]
  },
  {
   "cell_type": "markdown",
   "metadata": {},
   "source": [
    "El client rep una llista de dades i necessita generar dues llistes, la primera on estaran tots els elements que es van poder convertir en flotants i l'altra on estan els elements que no es van poder convertir. Exemple de la llista que rep el client: [ '1.3', 'one' , '1e10' , 'seven', '3-1/2', ('2',1,1.4,'not-a-number'), [1,2,'3','3.4']]"
   ]
  },
  {
   "cell_type": "code",
   "execution_count": null,
   "metadata": {},
   "outputs": [
    {
     "name": "stdout",
     "output_type": "stream",
     "text": [
      "Lista de números convertidos a decimales: [1.3, 10000000000.0, 2.0, 1.0, 1.4, 1.0, 2.0, 3.0, 3.4]\n",
      "\n",
      "Lista de elementos no convertibles a decimales: ['one', 'seven', '3-1/2', 'not-a-number']\n"
     ]
    }
   ],
   "source": [
    "# creamos una función\n",
    "def conversor_datos (lista_recibida):\n",
    "\n",
    "    #creamos dos listas para poder almacenar los elementos\n",
    "    lista_decimales = []\n",
    "    lista_sin_convertir = []\n",
    "\n",
    "    #Usamos un bucle for para recorrer los elementos de la lista y la sentencia try-except para probar \n",
    "    #si es posible transformar el elemento en flotante lo añadimos a una lista y si da error a otra.\n",
    "    for elemento in lista_recibida:\n",
    "        if isinstance(elemento, (list, tuple)):\n",
    "            for item in elemento:\n",
    "                try:\n",
    "                    lista_decimales.append(float(item))\n",
    "                except:\n",
    "                    lista_sin_convertir.append(item)\n",
    "        else:\n",
    "            try: \n",
    "                lista_decimales.append(float(elemento)) \n",
    "            except: \n",
    "                lista_sin_convertir.append(elemento)\n",
    "    return lista_decimales, lista_sin_convertir        \n",
    "\n",
    "# Comprobamos el código\n",
    "lista_recibida= [ '1.3', 'one' , '1e10' , 'seven', '3-1/2', ('2',1,1.4,'not-a-number'), [1,2,'3','3.4']]\n",
    "\n",
    "print(\"Lista de números convertidos a decimales:\", lista_decimales)\n",
    "print(\"\\nLista de elementos no convertibles a decimales:\",lista_sin_convertir)"
   ]
  },
  {
   "cell_type": "markdown",
   "metadata": {},
   "source": [
    "## Nivel 3\n",
    "### Ejercicio 1: Comptador i endreçador de paraules d'un text."
   ]
  },
  {
   "cell_type": "markdown",
   "metadata": {},
   "source": [
    "El client va quedar content amb el comptador de paraules, però ara vol llegir arxius TXT i que calculi la freqüència de cada paraula ordenades dins de les entrades habituals del diccionari segons la lletra amb la qual comencen, és a dir, les claus han d'anar de la A a la Z i dins de la A hem d'anar de la A la Z. Per exemple, per a l'arxiu \"tu_me_quieres_blanca.txt\" la sortida esperada seria:"
   ]
  },
  {
   "cell_type": "code",
   "execution_count": 70,
   "metadata": {},
   "outputs": [
    {
     "name": "stdout",
     "output_type": "stream",
     "text": [
      "{'a': {'a': 3, 'agua:': 1, 'al': 2, 'alba': 4, 'alcobas': 1, 'alimenta': 1, 'alma': 1, 'amarga': 1, 'azucena': 1}, 'b': {'baco': 1, 'banquete': 1, 'bebe': 1, 'blanca': 3, 'boca': 1, 'bosques': 1, 'buen': 1}, 'c': {'cabañas': 1, 'carnes': 2, 'casta': 3, 'cerrada': 1, 'con': 4, 'conservas': 1, 'copas': 1, 'corola': 1, 'corriste': 1, 'cuando': 2, 'cubierto': 1, 'cuerpo': 1, 'cuáles': 1}, 'd': {'de': 8, 'dejaste': 1, 'del': 1, 'diga': 1, 'dios': 2, 'duerme': 1}, 'e': {'el': 4, 'ellas': 1, 'en': 4, 'engaño': 1, 'enredada': 1, 'entonces': 1, 'escarcha': 1, 'espumas': 1, 'esqueleto': 1, 'estrago': 1}, 'f': {'festejando': 1, 'filtrado': 1, 'frutos': 1}, 'h': {'habla': 1, 'hacia': 1, 'haya': 1, 'hayas': 1, 'hermana': 1, 'hombre': 1, 'hubiste': 1, 'huye': 1}, 'i': {'intacto': 1}, 'j': {'jardines': 1}, 'l': {'la': 3, 'labios': 1, 'las': 7, 'lo': 2, 'los': 4, 'luna': 1, 'lévate': 1, 'límpiate': 1}, 'm': {'mano': 1, 'manos': 1, 'margarita': 1, 'me': 10, 'mi': 1, 'mieles': 1, 'milagros': 1, 'mojada': 1, 'montaña': 1, 'morados': 1}, 'n': {'negros': 1, 'ni': 2, 'no': 1, 'nácar': 1, 'nívea': 2}, 'p': {'perdone': 2, 'perfume': 1, 'por': 2, 'pretendes': 3, 'preténdeme': 3, 'puesto': 1, 'pájaros': 1, 'pámpanos': 1}, 'q': {'que': 6, 'quedó': 1, 'quieres': 6}, 'r': {'rayo': 1, 'raíz': 1, 'renueva': 1, 'rocas': 1, 'rojo': 1}, 's': {'salitre': 1, 'se': 2, 'sea': 1, 'sean': 1, 'sobre': 2, 'sé': 1}, 't': {'te': 3, 'tejidos': 1, 'tenue': 1, 'tierra': 1, 'toca': 1, 'todas': 2, 'todavía': 1, 'tornadas': 1, 'tú': 8}, 'u': {'un': 1, 'una': 1}, 'v': {'vestido': 1, 'vete': 1, 'vive': 1}, 'y': {'y': 5}}\n"
     ]
    }
   ],
   "source": [
    "import re\n",
    "\n",
    "def contador_palabras_ordenado(ruta_archivo):\n",
    "    # Abrimos el archivo y leemos su contenido\n",
    "    with open(ruta_archivo, 'r', encoding='utf-8') as archivo:\n",
    "        texto = archivo.read()\n",
    "\n",
    "    # Reemplazamos los caracteres de nueva línea por espacios y convertimos a minúsculas\n",
    "    texto = texto.replace('\\n', ' ').lower()\n",
    "\n",
    "    # Dividimos el texto en palabras según los múltiples delimitadores que puede tener\n",
    "    delimitadores = r\"[ ,;¡!.?()]+\"\n",
    "    palabras = re.split(delimitadores, texto)\n",
    "\n",
    "    # Creamos un diccionario principal para almacenar las palabras contadas organizadas por letra inicial\n",
    "    resultado = {}\n",
    "\n",
    "    # Contabilizamos cada palabra y organizamos por letra inicial\n",
    "    for palabra in palabras:\n",
    "        palabra = palabra.strip()  # Eliminamos cualquier espacio en blanco alrededor de la palabra\n",
    "        if palabra != '':  # Verificamos si la palabra no está vacía\n",
    "            primera_letra = palabra[0]\n",
    "            # Si la primera letra de la palabra no está en el resultado, creamos un nuevo subdiccionario\n",
    "            if primera_letra not in resultado: \n",
    "                resultado[primera_letra] = {}\n",
    "            # Agregamos la palabra al subdiccionario correspondiente y actualizamos el contador\n",
    "            resultado[primera_letra][palabra] = resultado[primera_letra].get(palabra, 0) + 1\n",
    "\n",
    "    # Ordenamos alfabéticamente las claves del diccionario principal\n",
    "    resultado_ordenado = dict(sorted(resultado.items()))\n",
    "\n",
    "    # Iteramos para ordenar alfabéticamente las claves de cada subdiccionario y lo convertimos de nuevo en diccionario\n",
    "    for letra, subdiccionario in resultado_ordenado.items():\n",
    "        resultado_ordenado[letra] = dict(sorted(subdiccionario.items()))\n",
    "\n",
    "    # Devolvemos el resultado final\n",
    "    return resultado_ordenado\n",
    "\n",
    "# Ruta del archivo\n",
    "ruta_archivo = \"C:/Users/mica_/OneDrive/Escritorio/Cursos/Anàlisi de dades BA/1. Especialització/S7.01/tu_me_quieres_blanca.txt\"\n",
    "\n",
    "# Llamamos a la función y obtenemos el resultado\n",
    "resultado = contador_palabras_ordenado(ruta_archivo)\n",
    "\n",
    "# Imprimimos el resultado final\n",
    "print(resultado)"
   ]
  }
 ],
 "metadata": {
  "kernelspec": {
   "display_name": "Python 3",
   "language": "python",
   "name": "python3"
  },
  "language_info": {
   "codemirror_mode": {
    "name": "ipython",
    "version": 3
   },
   "file_extension": ".py",
   "mimetype": "text/x-python",
   "name": "python",
   "nbconvert_exporter": "python",
   "pygments_lexer": "ipython3",
   "version": "3.12.3"
  }
 },
 "nbformat": 4,
 "nbformat_minor": 2
}
