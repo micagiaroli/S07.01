{
 "cells": [
  {
   "cell_type": "markdown",
   "metadata": {},
   "source": [
    "## Sprint 7: Nivel 1\n",
    "### Ejercicio 1: Calculadora de l'índex de massa corporal"
   ]
  },
  {
   "cell_type": "code",
   "execution_count": 8,
   "metadata": {},
   "outputs": [
    {
     "name": "stdout",
     "output_type": "stream",
     "text": [
      "Tu IMC es igual a 20.2 tienes peso normal.\n"
     ]
    }
   ],
   "source": [
    "peso = float(input(\"¿Cuanto pesas (kg)?\"))\n",
    "altura = float(input(\"¿Cuanto mides (m)?\")) \n",
    "\n",
    "IMC = round((peso/(altura*altura)),2)\n",
    "if IMC < 18.5: \n",
    "    print(\"Tu IMC es igual a\", (IMC), \"tienes bajo peso.\") \n",
    "elif IMC >= 18.5:\n",
    "    print(\"Tu IMC es igual a\", (IMC), \"tienes peso normal.\")\n",
    "elif IMC >= 25 and IMC < 30:\n",
    "    print(\"Tu IMC es igual a\", (IMC), \"tienes sobrepeso.\")\n",
    "else: \n",
    "    print(\"Tu IMC es igual a\", (IMC), \"tienes obesidad.\")"
   ]
  },
  {
   "cell_type": "markdown",
   "metadata": {},
   "source": [
    "### Ejercicio 2: Convertidor de temperatures: Celsius a Farenheit."
   ]
  },
  {
   "cell_type": "code",
   "execution_count": 6,
   "metadata": {},
   "outputs": [
    {
     "name": "stdout",
     "output_type": "stream",
     "text": [
      "22 Cº es igual a 72 Fº.\n"
     ]
    }
   ],
   "source": [
    "temp_celsius = int(input(\"Temperatura actual en Cº:\")) \n",
    "\n",
    "temp_farenheit = round((temp_celsius*9/5)+32)\n",
    "\n",
    "print((temp_celsius),\"Cº es igual a\",(temp_farenheit),\"Fº.\")\n"
   ]
  },
  {
   "cell_type": "markdown",
   "metadata": {},
   "source": [
    "### Ejercicio 3: Comptador de paraules d'un text."
   ]
  },
  {
   "cell_type": "code",
   "execution_count": 8,
   "metadata": {},
   "outputs": [
    {
     "name": "stdout",
     "output_type": "stream",
     "text": [
      "Este texto tiene 3 palabras.\n"
     ]
    }
   ],
   "source": [
    "texto = input(\"copia aquí el texto que quieras contabilizar\")\n",
    "palabras = texto.split()   #usamos split() para dividir la cadena en palabras \n",
    "print(\"Este texto tiene\", len(palabras), \"palabras.\")\n"
   ]
  },
  {
   "cell_type": "markdown",
   "metadata": {},
   "source": [
    "### Ejercicio 4: Diccionari invers."
   ]
  },
  {
   "cell_type": "markdown",
   "metadata": {},
   "source": [
    "els necessita al revés, és a dir, intercanviats les claus i els valors. Els valors i claus en el diccionari original són únics; si aquest no és el cas, la funció hauria d'imprimir un missatge d'advertiment."
   ]
  },
  {
   "cell_type": "code",
   "execution_count": 39,
   "metadata": {},
   "outputs": [
    {
     "name": "stdout",
     "output_type": "stream",
     "text": [
      "{'micaela': 'nombre', 'giaroli': 'apellido', 32: 'edad'}\n"
     ]
    }
   ],
   "source": [
    "#creamos un diccionario de ejemplo\n",
    "diccionario_ejemplo = {\"nombre\" : \"micaela\",\n",
    "                \"apellido\" : \"giaroli\",\n",
    "                \"edad\" : 32}\n",
    "\n",
    "#obtenemos los items del diccionario por si no conocemos las claves y los valores:\n",
    "diccionario_ejemplo.items()\n",
    "\n",
    "#usamos un bucle for para invertir los valores:\n",
    "diccionario_inverso = {}\n",
    "for key, value in diccionario_ejemplo.items():\n",
    "    if value in diccionario_ejemplo:\n",
    "            print(f\"Advertencia: El valor '{value}' ya existe en el diccionario invertido.\")\n",
    "    elif key in diccionario_ejemplo.values():\n",
    "        print(f\"Advertencia: La clave '{key}' ya existe en el diccionario invertido.\")\n",
    "    else: diccionario_inverso[value] = key\n",
    "\n",
    "print(diccionario_inverso)"
   ]
  },
  {
   "cell_type": "markdown",
   "metadata": {},
   "source": [
    "##### Los diccionarios por definición NO admiten claves duplicadas, por lo que no podría darse el caso del mensaje de advertencia para una repetición de claves, pero sí podría ocurrir para valores duplicados. \n",
    "\n",
    "\n"
   ]
  },
  {
   "cell_type": "code",
   "execution_count": 27,
   "metadata": {},
   "outputs": [
    {
     "name": "stdout",
     "output_type": "stream",
     "text": [
      "{'nombre': 'micaela', 'apellido': 'giaroli', 'edad': 33}\n"
     ]
    }
   ],
   "source": [
    "#para desmostrarlo probamos añadir un valor repetido de una misma clave del diccionario:\n",
    "diccionario_clave_duplicada = {\"nombre\" : \"micaela\",\n",
    "                \"apellido\" : \"giaroli\",\n",
    "                \"edad\" : 32,\n",
    "                \"edad\" : 33}\n",
    "\n",
    "print(diccionario_clave_duplicada)\n",
    "\n",
    "#al imprimirlo vemos que el último valor duplicado es el que el diccionario tomará como válido para una misma clave"
   ]
  },
  {
   "cell_type": "code",
   "execution_count": 43,
   "metadata": {},
   "outputs": [
    {
     "name": "stdout",
     "output_type": "stream",
     "text": [
      "{'nombre': 'micaela', 'apellido': 'giaroli', 'apodo': 'micaela'}\n",
      "Advertencia: El valor 'micaela' ya existe en el diccionario invertido.\n",
      "{'micaela': 'nombre', 'giaroli': 'apellido'}\n"
     ]
    }
   ],
   "source": [
    "#ahora probamos duplicando un valor\n",
    "diccionario_valor_duplicado = {\"nombre\" : \"micaela\",\n",
    "                \"apellido\" : \"giaroli\",\n",
    "                \"apodo\" : \"micaela\"}\n",
    "\n",
    "print(diccionario_valor_duplicado)\n",
    "\n",
    "#usamos un bucle for para invertir los valores y eliminamos la advertencia de claves duplicadas ya que como hemos demostrado no sería posible:\n",
    "diccionario_invertido = {}\n",
    "for key, value in diccionario_valor_duplicado.items():\n",
    "    if value in diccionario_invertido:\n",
    "            print(f\"Advertencia: El valor '{value}' ya existe en el diccionario invertido.\")\n",
    "    else:\n",
    "        diccionario_invertido[value] = key\n",
    "\n",
    "print(diccionario_invertido)\n"
   ]
  }
 ],
 "metadata": {
  "kernelspec": {
   "display_name": "Python 3",
   "language": "python",
   "name": "python3"
  },
  "language_info": {
   "codemirror_mode": {
    "name": "ipython",
    "version": 3
   },
   "file_extension": ".py",
   "mimetype": "text/x-python",
   "name": "python",
   "nbconvert_exporter": "python",
   "pygments_lexer": "ipython3",
   "version": "3.12.2"
  }
 },
 "nbformat": 4,
 "nbformat_minor": 2
}
