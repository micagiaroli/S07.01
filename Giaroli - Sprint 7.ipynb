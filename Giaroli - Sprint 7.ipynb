{
 "cells": [
  {
   "cell_type": "markdown",
   "metadata": {},
   "source": [
    "## Sprint 7: Nivel 1\n",
    "### Ejercicio 1: Calculadora de l'índex de massa corporal"
   ]
  },
  {
   "cell_type": "markdown",
   "metadata": {},
   "source": [
    "Escriu una funció que calculi l'IMC ingressat per l'usuari/ària, és a dir, qui ho executi haurà d'ingressar aquestes dades. Pots obtenir més informació del seu càlcul en:\n",
    "La funció ha de classificar el resultat en les seves respectives categories"
   ]
  },
  {
   "cell_type": "code",
   "execution_count": 8,
   "metadata": {},
   "outputs": [
    {
     "name": "stdout",
     "output_type": "stream",
     "text": [
      "Tu IMC es igual a 20.2 tienes peso normal.\n"
     ]
    }
   ],
   "source": [
    "peso = float(input(\"¿Cuanto pesas (kg)?\"))\n",
    "altura = float(input(\"¿Cuanto mides (m)?\")) \n",
    "\n",
    "IMC = round((peso/(altura*altura)),2)\n",
    "if IMC < 18.5: \n",
    "    print(\"Tu IMC es igual a\", (IMC), \"tienes bajo peso.\") \n",
    "elif IMC >= 18.5:\n",
    "    print(\"Tu IMC es igual a\", (IMC), \"tienes peso normal.\")\n",
    "elif IMC >= 25 and IMC < 30:\n",
    "    print(\"Tu IMC es igual a\", (IMC), \"tienes sobrepeso.\")\n",
    "else: \n",
    "    print(\"Tu IMC es igual a\", (IMC), \"tienes obesidad.\")"
   ]
  },
  {
   "cell_type": "markdown",
   "metadata": {},
   "source": [
    "### Ejercicio 2: Convertidor de temperatures: Celsius a Farenheit."
   ]
  },
  {
   "cell_type": "markdown",
   "metadata": {},
   "source": [
    "Existeixen diverses unitats de temperatura utilitzades en diferents contextos i regions. Les més comunes són Celsius (°C), Fahrenheit (°F) i Kelvin (K). També existeixen altres unitats com Rankine (°Ra) i Réaumur (°Re). Selecciona almenys 2 i construeix el convertidor."
   ]
  },
  {
   "cell_type": "code",
   "execution_count": 6,
   "metadata": {},
   "outputs": [
    {
     "name": "stdout",
     "output_type": "stream",
     "text": [
      "22 Cº es igual a 72 Fº.\n"
     ]
    }
   ],
   "source": [
    "temp_celsius = int(input(\"Temperatura actual en Cº:\")) \n",
    "\n",
    "temp_farenheit = round((temp_celsius*9/5)+32)\n",
    "\n",
    "print((temp_celsius),\"Cº es igual a\",(temp_farenheit),\"Fº.\")\n"
   ]
  },
  {
   "cell_type": "markdown",
   "metadata": {},
   "source": [
    "### Ejercicio 3: Comptador de paraules d'un text."
   ]
  },
  {
   "cell_type": "markdown",
   "metadata": {},
   "source": [
    "Escriu una funció que donat un text, mostri les vegades que apareix cada paraula."
   ]
  },
  {
   "cell_type": "code",
   "execution_count": 8,
   "metadata": {},
   "outputs": [
    {
     "name": "stdout",
     "output_type": "stream",
     "text": [
      "Este texto tiene 3 palabras.\n"
     ]
    }
   ],
   "source": [
    "texto = input(\"copia aquí el texto que quieras contabilizar\")\n",
    "palabras = texto.split()   #usamos split() para dividir la cadena en palabras \n",
    "print(\"Este texto tiene\", len(palabras), \"palabras.\")\n"
   ]
  },
  {
   "cell_type": "markdown",
   "metadata": {},
   "source": [
    "### Ejercicio 4: Diccionari invers."
   ]
  },
  {
   "cell_type": "markdown",
   "metadata": {},
   "source": [
    "Resulta que el client té una enquesta molt antiga que s'emmagatzema en un diccionari i els resultats els necessita al revés, és a dir, intercanviats les claus i els valors. Els valors i claus en el diccionari original són únics; si aquest no és el cas, la funció hauria d'imprimir un missatge d'advertiment."
   ]
  },
  {
   "cell_type": "code",
   "execution_count": 50,
   "metadata": {},
   "outputs": [
    {
     "name": "stdout",
     "output_type": "stream",
     "text": [
      "{'micaela': 'nombre', 'giaroli': 'apellido', 32: 'edad'}\n"
     ]
    }
   ],
   "source": [
    "#creamos un diccionario de ejemplo\n",
    "diccionario_ejemplo = {\"nombre\" : \"micaela\",\n",
    "                \"apellido\" : \"giaroli\",\n",
    "                \"edad\" : 32}\n",
    "\n",
    "#obtenemos los items del diccionario por si no conocemos las claves y los valores:\n",
    "diccionario_ejemplo.items()\n",
    "\n",
    "#usamos un bucle for para invertir los valores:\n",
    "diccionario_inverso = {}\n",
    "for key, value in diccionario_ejemplo.items():\n",
    "    if value in diccionario_inverso:\n",
    "            print(f\"Advertencia: El valor '{value}' ya existe en el diccionario invertido.\")\n",
    "    if key in diccionario_inverso.values():\n",
    "        print(f\"Advertencia: La clave '{key}' ya existe en el diccionario invertido.\")\n",
    "    diccionario_inverso[value] = key\n",
    "\n",
    "print(diccionario_inverso)"
   ]
  },
  {
   "cell_type": "markdown",
   "metadata": {},
   "source": [
    "##### Los diccionarios por definición NO admiten claves duplicadas, por lo que no podría darse el caso del mensaje de advertencia para una repetición de claves, pero sí podría ocurrir para valores duplicados. \n",
    "\n",
    "\n"
   ]
  },
  {
   "cell_type": "code",
   "execution_count": 48,
   "metadata": {},
   "outputs": [
    {
     "name": "stdout",
     "output_type": "stream",
     "text": [
      "{'nombre': 'micaela', 'apellido': 'giaroli', 'edad': 33}\n"
     ]
    }
   ],
   "source": [
    "#para desmostrarlo probamos añadir un valor asociado a una misma clave del diccionario:\n",
    "diccionario_clave_duplicada = {\"nombre\" : \"micaela\",\n",
    "                \"apellido\" : \"giaroli\",\n",
    "                \"edad\" : 32,\n",
    "                \"edad\" : 33}\n",
    "\n",
    "print(diccionario_clave_duplicada)\n",
    "\n",
    "#al imprimirlo vemos que el último valor duplicado es el que el diccionario tomará como válido para una misma clave, pero no repetirá una clave existente"
   ]
  },
  {
   "cell_type": "code",
   "execution_count": 52,
   "metadata": {},
   "outputs": [
    {
     "name": "stdout",
     "output_type": "stream",
     "text": [
      "{'nombre': 'micaela', 'apellido': 'giaroli', 'apodo': 'micaela'}\n",
      "Advertencia: El valor 'micaela' ya existe en el diccionario invertido.\n",
      "{'micaela': 'apodo', 'giaroli': 'apellido'}\n"
     ]
    }
   ],
   "source": [
    "#ahora probamos duplicando un valor\n",
    "diccionario_valor_duplicado = {\"nombre\" : \"micaela\",\n",
    "                \"apellido\" : \"giaroli\",\n",
    "                \"apodo\" : \"micaela\"}\n",
    "\n",
    "print(diccionario_valor_duplicado)\n",
    "\n",
    "#usamos un bucle for para invertir los valores y eliminamos la advertencia de claves duplicadas ya que como hemos demostrado no sería posible:\n",
    "diccionario_invertido = {}\n",
    "for key, value in diccionario_valor_duplicado.items():\n",
    "    if value in diccionario_invertido:\n",
    "            print(f\"Advertencia: El valor '{value}' ya existe en el diccionario invertido.\")\n",
    "    diccionario_invertido[value] = key\n",
    "\n",
    "print(diccionario_invertido)\n",
    "\n",
    "#existiendo un valor duplicado tomará por válido al último que ingresemos al diccionario\n"
   ]
  },
  {
   "cell_type": "markdown",
   "metadata": {},
   "source": [
    "## Nivel 2\n",
    "### Ejercicio 1: Diccionari invers amb duplicats"
   ]
  },
  {
   "cell_type": "markdown",
   "metadata": {},
   "source": [
    "Continuant amb l'exercici 4 del nivell 1: al client es va oblidar de comentar un detall i resulta que els valors en el diccionari original poden duplicar-se i més, per la qual cosa les claus intercanviades poden tenir duplicats. En tals casos, els valors del diccionari resultant hauran d'emmagatzemar-se com una llista. Tingues en compte que un valor únic no ha de ser una llista."
   ]
  },
  {
   "cell_type": "code",
   "execution_count": 1,
   "metadata": {},
   "outputs": [
    {
     "name": "stdout",
     "output_type": "stream",
     "text": [
      "{'nombre': 'micaela', 'apellido': 'giaroli', 'apodo': 'micaela', 'sobrenombre': 'micaela'}\n",
      "Advertencia: El valor 'micaela' ya existe en el diccionario invertido.\n",
      "Advertencia: El valor 'micaela' ya existe en el diccionario invertido.\n",
      "{'micaela': 'sobrenombre', 'giaroli': 'apellido'}\n",
      "['nombre', 'apodo']\n"
     ]
    }
   ],
   "source": [
    "#ahora probamos triplicando un valor\n",
    "diccionario_valor_triplicado = {\"nombre\" : \"micaela\",\n",
    "                \"apellido\" : \"giaroli\",\n",
    "                \"apodo\" : \"micaela\",\n",
    "                \"sobrenombre\" : \"micaela\"\n",
    "                }\n",
    "\n",
    "print(diccionario_valor_triplicado)\n",
    "\n",
    "lista_repetidos=[]  #creamos una lista para almacenar los valores que se repiten\n",
    "\n",
    "#usamos un bucle for para invertir los valores y añadimos el comando para que almacene la clave en la lista creada:\n",
    "diccionario_invertido2 = {}\n",
    "for key, value in diccionario_valor_triplicado.items():\n",
    "    if value in diccionario_invertido2.keys():\n",
    "            if diccionario_invertido2[value] != key:\n",
    "                print(f\"Advertencia: El valor '{value}' ya existe en el diccionario invertido.\")\n",
    "                lista_repetidos.append(diccionario_invertido2[value])\n",
    "    diccionario_invertido2[value] = key\n",
    "\n",
    "print(diccionario_invertido2)\n",
    "\n",
    "print(lista_repetidos)\n"
   ]
  },
  {
   "cell_type": "markdown",
   "metadata": {},
   "source": [
    "### Ejercicio 2: Conversió de tipus de dades"
   ]
  },
  {
   "cell_type": "markdown",
   "metadata": {},
   "source": [
    "El client rep una llista de dades i necessita generar dues llistes, la primera on estaran tots els elements que es van poder convertir en flotants i l'altra on estan els elements que no es van poder convertir. Exemple de la llista que rep el client: [ '1.3', 'one' , '1e10' , 'seven', '3-1/2', ('2',1,1.4,'not-a-number'), [1,2,'3','3.4']]"
   ]
  },
  {
   "cell_type": "code",
   "execution_count": 25,
   "metadata": {},
   "outputs": [
    {
     "name": "stdout",
     "output_type": "stream",
     "text": [
      "Lista de números decimales: [1.3, 10000000000.0, 2.0, 1.0, 1.4, 1.0, 2.0, 3.0, 3.4]\n",
      "\n",
      "Lista de elementos no convertibles a decimales: ['one', 'seven', '3-1/2', 'not-a-number']\n"
     ]
    }
   ],
   "source": [
    "lista_recibida= [ '1.3', 'one' , '1e10' , 'seven', '3-1/2', ('2',1,1.4,'not-a-number'), [1,2,'3','3.4']]\n",
    "\n",
    "#cramos dos listas para poder almacenar los elementos\n",
    "lista_decimales = []\n",
    "lista_sin_convertir = []\n",
    "\n",
    "\"\"\"\"\"\n",
    "Usamos un bucle for para recorrer los elementos de la lista y la sentencia try-except para probar \n",
    "si es posible transformar el elemento en flotante lo añadimos a una lista y si da error a otra.\n",
    "Con la condición elif iteramos sobre los elementos de la lista y tuplas anidadas en la lista original y\n",
    "aplicamos la misma lógica que antes.\n",
    "\"\"\"\n",
    "for elemento in lista_recibida:\n",
    "    if isinstance(elemento, str):\n",
    "        try:\n",
    "            numero = float(elemento) \n",
    "            lista_decimales.append(numero)\n",
    "        except ValueError:\n",
    "            lista_sin_convertir.append(elemento)\n",
    "    elif isinstance(elemento, (list, tuple)):\n",
    "        for item in elemento:\n",
    "            try:\n",
    "                numero = float(item)\n",
    "                lista_decimales.append(numero)\n",
    "            except ValueError:\n",
    "                lista_sin_convertir.append(item)\n",
    "    else:\n",
    "        lista_sin_convertir.append(elemento)\n",
    "        \n",
    "\n",
    "# Impresión de resultados\n",
    "print(\"Lista de números decimales:\", lista_decimales)\n",
    "print(\"\\nLista de elementos no convertibles a decimales:\",lista_sin_convertir)"
   ]
  },
  {
   "cell_type": "markdown",
   "metadata": {},
   "source": [
    "## Nivel 3\n",
    "### Ejercicio 1: Comptador i endreçador de paraules d'un text."
   ]
  },
  {
   "cell_type": "markdown",
   "metadata": {},
   "source": [
    "El client va quedar content amb el comptador de paraules, però ara vol llegir arxius TXT i que calculi la freqüència de cada paraula ordenades dins de les entrades habituals del diccionari segons la lletra amb la qual comencen, és a dir, les claus han d'anar de la A a la Z i dins de la A hem d'anar de la A la Z. Per exemple, per a l'arxiu \"tu_me_quieres_blanca.txt\" la sortida esperada seria:"
   ]
  },
  {
   "cell_type": "code",
   "execution_count": 34,
   "metadata": {},
   "outputs": [
    {
     "name": "stdout",
     "output_type": "stream",
     "text": [
      "{'a': {'a': 3, 'agua:': 1, 'al': 2, 'alba': 4, 'alcobas': 1, 'alimenta': 1, 'alma': 1, 'amarga': 1, 'azucena': 1}, 'b': {'baco': 1, 'banquete': 1, 'bebe': 1, 'blanca': 3, 'boca': 1, 'bosques': 1, 'buen': 1}, 'c': {'cabañas': 1, 'carnes': 2, 'casta': 3, 'cerrada': 1, 'con': 4, 'conservas': 1, 'copas': 1, 'corola': 1, 'corriste': 1, 'cuando': 2, 'cubierto': 1, 'cuerpo': 1, 'cuáles': 1}, 'd': {'de': 8, 'dejaste': 1, 'del': 1, 'diga': 1, 'dios': 2, 'duerme': 1}, 'e': {'el': 4, 'ellas': 1, 'en': 4, 'engaño': 1, 'enredada': 1, 'entonces': 1, 'escarcha': 1, 'espumas': 1, 'esqueleto': 1, 'estrago': 1}, 'f': {'festejando': 1, 'filtrado': 1, 'frutos': 1}, 'h': {'habla': 1, 'hacia': 1, 'haya': 1, 'hayas': 1, 'hermana': 1, 'hombre': 1, 'hubiste': 1, 'huye': 1}, 'i': {'intacto': 1}, 'j': {'jardines': 1}, 'l': {'la': 3, 'labios': 1, 'las': 7, 'lo': 2, 'los': 4, 'luna': 1, 'lévate': 1, 'límpiate': 1}, 'm': {'mano': 1, 'manos': 1, 'margarita': 1, 'me': 10, 'mi': 1, 'mieles': 1, 'milagros': 1, 'mojada': 1, 'montaña': 1, 'morados': 1}, 'n': {'negros': 1, 'ni': 2, 'no': 1, 'nácar': 1, 'nívea': 2}, 'p': {'perdone': 2, 'perfume': 1, 'por': 2, 'pretendes': 3, 'preténdeme': 3, 'puesto': 1, 'pájaros': 1, 'pámpanos': 1}, 'q': {'que': 6, 'quedó': 1, 'quieres': 6}, 'r': {'rayo': 1, 'raíz': 1, 'renueva': 1, 'rocas': 1, 'rojo': 1}, 's': {'salitre': 1, 'se': 2, 'sea': 1, 'sean': 1, 'sobre': 2, 'sé': 1}, 't': {'te': 3, 'tejidos': 1, 'tenue': 1, 'tierra': 1, 'toca': 1, 'todas': 2, 'todavía': 1, 'tornadas': 1, 'tú': 8}, 'u': {'un': 1, 'una': 1}, 'v': {'vestido': 1, 'vete': 1, 'vive': 1}, 'y': {'y': 5}}\n"
     ]
    }
   ],
   "source": [
    "# importamos módulo re para poder usar múltiples delimitadores\n",
    "import re\n",
    "\n",
    "# utilizamos la función input para obtener el texto a contabilizar y lower para que no sea casesensitive\n",
    "texto = input(\"Copia aquí el texto que quieras contabilizar: \").lower()\n",
    "\n",
    "# dividimos el texto en palabras según los múltiples delimitadores que puede tener\n",
    "delimitadores = r\"[ ,;¡!.?()]+\"\n",
    "palabras = re.split(delimitadores, texto)\n",
    "\n",
    "# creamos un diccionario principal para almacenar las palabras contadas organizadas por letra inicial\n",
    "resultado = {}\n",
    "\n",
    "# contabilizamos cada palabra y organizamos por letra inicial\n",
    "for palabra in palabras:\n",
    "    if palabra != '':  # Verificamos si la palabra no está vacía\n",
    "        primera_letra = palabra[0]\n",
    "        #si la primera letra de la palabra no está en el resultado creamos un nuevo subdiccionario\n",
    "        if primera_letra not in resultado: \n",
    "            resultado[primera_letra] = {}\n",
    "        # agregamos la palabra al subdiccionario correspondiente y actualizamos el contador\n",
    "        resultado[primera_letra][palabra] = resultado[primera_letra].get(palabra, 0) + 1\n",
    "\n",
    "\n",
    "# Ordenamos alfabéticamente las claves del diccionario principal\n",
    "resultado_ordenado = dict(sorted(resultado.items()))\n",
    "\n",
    "# Iteramos para orfdernar alfabéticamente las claves de cada subdiccionario y lo convertimos de nuevo en diccionario\n",
    "for letra, subdiccionario in resultado_ordenado.items():\n",
    "    resultado_ordenado[letra] = dict(sorted(subdiccionario.items()))\n",
    "\n",
    "# Imprimimos el resultado final\n",
    "print(resultado_ordenado)\n"
   ]
  }
 ],
 "metadata": {
  "kernelspec": {
   "display_name": "Python 3",
   "language": "python",
   "name": "python3"
  },
  "language_info": {
   "codemirror_mode": {
    "name": "ipython",
    "version": 3
   },
   "file_extension": ".py",
   "mimetype": "text/x-python",
   "name": "python",
   "nbconvert_exporter": "python",
   "pygments_lexer": "ipython3",
   "version": "3.12.2"
  }
 },
 "nbformat": 4,
 "nbformat_minor": 2
}
